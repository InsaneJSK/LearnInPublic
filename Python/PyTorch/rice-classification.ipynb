{
 "cells": [
  {
   "cell_type": "code",
   "execution_count": 39,
   "id": "25f3558a",
   "metadata": {},
   "outputs": [
    {
     "name": "stdout",
     "output_type": "stream",
     "text": [
      "cpu\n"
     ]
    }
   ],
   "source": [
    "import torch\n",
    "import torch.nn as nn\n",
    "from torch.optim import Adam\n",
    "from torch.utils.data import Dataset, DataLoader\n",
    "from torchsummary import summary\n",
    "from sklearn.model_selection import train_test_split\n",
    "from sklearn.metrics import accuracy_score\n",
    "import matplotlib.pyplot as plt\n",
    "import pandas as pd\n",
    "import numpy as np\n",
    "device = 'cuda' if torch.cuda.is_available() else 'cpu'\n",
    "print(device)"
   ]
  },
  {
   "cell_type": "code",
   "execution_count": 40,
   "id": "ae66e57e",
   "metadata": {},
   "outputs": [
    {
     "data": {
      "application/vnd.microsoft.datawrangler.viewer.v0+json": {
       "columns": [
        {
         "name": "index",
         "rawType": "int64",
         "type": "integer"
        },
        {
         "name": "id",
         "rawType": "int64",
         "type": "integer"
        },
        {
         "name": "Area",
         "rawType": "int64",
         "type": "integer"
        },
        {
         "name": "MajorAxisLength",
         "rawType": "float64",
         "type": "float"
        },
        {
         "name": "MinorAxisLength",
         "rawType": "float64",
         "type": "float"
        },
        {
         "name": "Eccentricity",
         "rawType": "float64",
         "type": "float"
        },
        {
         "name": "ConvexArea",
         "rawType": "int64",
         "type": "integer"
        },
        {
         "name": "EquivDiameter",
         "rawType": "float64",
         "type": "float"
        },
        {
         "name": "Extent",
         "rawType": "float64",
         "type": "float"
        },
        {
         "name": "Perimeter",
         "rawType": "float64",
         "type": "float"
        },
        {
         "name": "Roundness",
         "rawType": "float64",
         "type": "float"
        },
        {
         "name": "AspectRation",
         "rawType": "float64",
         "type": "float"
        },
        {
         "name": "Class",
         "rawType": "int64",
         "type": "integer"
        }
       ],
       "ref": "4f2d8ecf-198f-4283-bd1f-f7bf72f5de73",
       "rows": [
        [
         "0",
         "1",
         "4537",
         "92.2293165",
         "64.01276874",
         "0.7199162256",
         "4677",
         "76.00452496",
         "0.6575362319",
         "273.085",
         "0.7645096145",
         "1.440795615",
         "1"
        ],
        [
         "1",
         "2",
         "2872",
         "74.69188071",
         "51.40045446",
         "0.7255527468",
         "3015",
         "60.47101762",
         "0.7130089374",
         "208.317",
         "0.8316582009",
         "1.453136582",
         "1"
        ],
        [
         "2",
         "3",
         "3048",
         "76.2931638",
         "52.04349114",
         "0.7312109273",
         "3132",
         "62.29634124",
         "0.7591531756",
         "210.012",
         "0.8684335737",
         "1.465950153",
         "1"
        ],
        [
         "3",
         "4",
         "3073",
         "77.03362772",
         "51.92848667",
         "0.7386386945",
         "3157",
         "62.55129991",
         "0.7835288118",
         "210.657",
         "0.8702031163",
         "1.48345605",
         "1"
        ],
        [
         "4",
         "5",
         "3693",
         "85.12478457",
         "56.37402054",
         "0.7492815788",
         "3802",
         "68.5716679",
         "0.769375",
         "230.332",
         "0.8747432792",
         "1.51000024",
         "1"
        ]
       ],
       "shape": {
        "columns": 12,
        "rows": 5
       }
      },
      "text/html": [
       "<div>\n",
       "<style scoped>\n",
       "    .dataframe tbody tr th:only-of-type {\n",
       "        vertical-align: middle;\n",
       "    }\n",
       "\n",
       "    .dataframe tbody tr th {\n",
       "        vertical-align: top;\n",
       "    }\n",
       "\n",
       "    .dataframe thead th {\n",
       "        text-align: right;\n",
       "    }\n",
       "</style>\n",
       "<table border=\"1\" class=\"dataframe\">\n",
       "  <thead>\n",
       "    <tr style=\"text-align: right;\">\n",
       "      <th></th>\n",
       "      <th>id</th>\n",
       "      <th>Area</th>\n",
       "      <th>MajorAxisLength</th>\n",
       "      <th>MinorAxisLength</th>\n",
       "      <th>Eccentricity</th>\n",
       "      <th>ConvexArea</th>\n",
       "      <th>EquivDiameter</th>\n",
       "      <th>Extent</th>\n",
       "      <th>Perimeter</th>\n",
       "      <th>Roundness</th>\n",
       "      <th>AspectRation</th>\n",
       "      <th>Class</th>\n",
       "    </tr>\n",
       "  </thead>\n",
       "  <tbody>\n",
       "    <tr>\n",
       "      <th>0</th>\n",
       "      <td>1</td>\n",
       "      <td>4537</td>\n",
       "      <td>92.229316</td>\n",
       "      <td>64.012769</td>\n",
       "      <td>0.719916</td>\n",
       "      <td>4677</td>\n",
       "      <td>76.004525</td>\n",
       "      <td>0.657536</td>\n",
       "      <td>273.085</td>\n",
       "      <td>0.764510</td>\n",
       "      <td>1.440796</td>\n",
       "      <td>1</td>\n",
       "    </tr>\n",
       "    <tr>\n",
       "      <th>1</th>\n",
       "      <td>2</td>\n",
       "      <td>2872</td>\n",
       "      <td>74.691881</td>\n",
       "      <td>51.400454</td>\n",
       "      <td>0.725553</td>\n",
       "      <td>3015</td>\n",
       "      <td>60.471018</td>\n",
       "      <td>0.713009</td>\n",
       "      <td>208.317</td>\n",
       "      <td>0.831658</td>\n",
       "      <td>1.453137</td>\n",
       "      <td>1</td>\n",
       "    </tr>\n",
       "    <tr>\n",
       "      <th>2</th>\n",
       "      <td>3</td>\n",
       "      <td>3048</td>\n",
       "      <td>76.293164</td>\n",
       "      <td>52.043491</td>\n",
       "      <td>0.731211</td>\n",
       "      <td>3132</td>\n",
       "      <td>62.296341</td>\n",
       "      <td>0.759153</td>\n",
       "      <td>210.012</td>\n",
       "      <td>0.868434</td>\n",
       "      <td>1.465950</td>\n",
       "      <td>1</td>\n",
       "    </tr>\n",
       "    <tr>\n",
       "      <th>3</th>\n",
       "      <td>4</td>\n",
       "      <td>3073</td>\n",
       "      <td>77.033628</td>\n",
       "      <td>51.928487</td>\n",
       "      <td>0.738639</td>\n",
       "      <td>3157</td>\n",
       "      <td>62.551300</td>\n",
       "      <td>0.783529</td>\n",
       "      <td>210.657</td>\n",
       "      <td>0.870203</td>\n",
       "      <td>1.483456</td>\n",
       "      <td>1</td>\n",
       "    </tr>\n",
       "    <tr>\n",
       "      <th>4</th>\n",
       "      <td>5</td>\n",
       "      <td>3693</td>\n",
       "      <td>85.124785</td>\n",
       "      <td>56.374021</td>\n",
       "      <td>0.749282</td>\n",
       "      <td>3802</td>\n",
       "      <td>68.571668</td>\n",
       "      <td>0.769375</td>\n",
       "      <td>230.332</td>\n",
       "      <td>0.874743</td>\n",
       "      <td>1.510000</td>\n",
       "      <td>1</td>\n",
       "    </tr>\n",
       "  </tbody>\n",
       "</table>\n",
       "</div>"
      ],
      "text/plain": [
       "   id  Area  MajorAxisLength  MinorAxisLength  Eccentricity  ConvexArea  \\\n",
       "0   1  4537        92.229316        64.012769      0.719916        4677   \n",
       "1   2  2872        74.691881        51.400454      0.725553        3015   \n",
       "2   3  3048        76.293164        52.043491      0.731211        3132   \n",
       "3   4  3073        77.033628        51.928487      0.738639        3157   \n",
       "4   5  3693        85.124785        56.374021      0.749282        3802   \n",
       "\n",
       "   EquivDiameter    Extent  Perimeter  Roundness  AspectRation  Class  \n",
       "0      76.004525  0.657536    273.085   0.764510      1.440796      1  \n",
       "1      60.471018  0.713009    208.317   0.831658      1.453137      1  \n",
       "2      62.296341  0.759153    210.012   0.868434      1.465950      1  \n",
       "3      62.551300  0.783529    210.657   0.870203      1.483456      1  \n",
       "4      68.571668  0.769375    230.332   0.874743      1.510000      1  "
      ]
     },
     "execution_count": 40,
     "metadata": {},
     "output_type": "execute_result"
    }
   ],
   "source": [
    "data_df = pd.read_csv(\"riceClassification.csv\")\n",
    "data_df.head()"
   ]
  },
  {
   "cell_type": "code",
   "execution_count": 41,
   "id": "f9300dde",
   "metadata": {},
   "outputs": [
    {
     "name": "stdout",
     "output_type": "stream",
     "text": [
      "(18185, 11)\n"
     ]
    }
   ],
   "source": [
    "data_df.dropna(inplace=True)\n",
    "data_df.drop(['id'], axis=1, inplace=True)\n",
    "print(data_df.shape)"
   ]
  },
  {
   "cell_type": "code",
   "execution_count": 42,
   "id": "90263c03",
   "metadata": {},
   "outputs": [
    {
     "data": {
      "application/vnd.microsoft.datawrangler.viewer.v0+json": {
       "columns": [
        {
         "name": "index",
         "rawType": "int64",
         "type": "integer"
        },
        {
         "name": "Area",
         "rawType": "int64",
         "type": "integer"
        },
        {
         "name": "MajorAxisLength",
         "rawType": "float64",
         "type": "float"
        },
        {
         "name": "MinorAxisLength",
         "rawType": "float64",
         "type": "float"
        },
        {
         "name": "Eccentricity",
         "rawType": "float64",
         "type": "float"
        },
        {
         "name": "ConvexArea",
         "rawType": "int64",
         "type": "integer"
        },
        {
         "name": "EquivDiameter",
         "rawType": "float64",
         "type": "float"
        },
        {
         "name": "Extent",
         "rawType": "float64",
         "type": "float"
        },
        {
         "name": "Perimeter",
         "rawType": "float64",
         "type": "float"
        },
        {
         "name": "Roundness",
         "rawType": "float64",
         "type": "float"
        },
        {
         "name": "AspectRation",
         "rawType": "float64",
         "type": "float"
        },
        {
         "name": "Class",
         "rawType": "int64",
         "type": "integer"
        }
       ],
       "ref": "1e09833b-3f94-409d-9e68-0a7c79ff9fa4",
       "rows": [
        [
         "0",
         "4537",
         "92.2293165",
         "64.01276874",
         "0.7199162256",
         "4677",
         "76.00452496",
         "0.6575362319",
         "273.085",
         "0.7645096145",
         "1.440795615",
         "1"
        ],
        [
         "1",
         "2872",
         "74.69188071",
         "51.40045446",
         "0.7255527468",
         "3015",
         "60.47101762",
         "0.7130089374",
         "208.317",
         "0.8316582009",
         "1.453136582",
         "1"
        ],
        [
         "2",
         "3048",
         "76.2931638",
         "52.04349114",
         "0.7312109273",
         "3132",
         "62.29634124",
         "0.7591531756",
         "210.012",
         "0.8684335737",
         "1.465950153",
         "1"
        ],
        [
         "3",
         "3073",
         "77.03362772",
         "51.92848667",
         "0.7386386945",
         "3157",
         "62.55129991",
         "0.7835288118",
         "210.657",
         "0.8702031163",
         "1.48345605",
         "1"
        ],
        [
         "4",
         "3693",
         "85.12478457",
         "56.37402054",
         "0.7492815788",
         "3802",
         "68.5716679",
         "0.769375",
         "230.332",
         "0.8747432792",
         "1.51000024",
         "1"
        ]
       ],
       "shape": {
        "columns": 11,
        "rows": 5
       }
      },
      "text/html": [
       "<div>\n",
       "<style scoped>\n",
       "    .dataframe tbody tr th:only-of-type {\n",
       "        vertical-align: middle;\n",
       "    }\n",
       "\n",
       "    .dataframe tbody tr th {\n",
       "        vertical-align: top;\n",
       "    }\n",
       "\n",
       "    .dataframe thead th {\n",
       "        text-align: right;\n",
       "    }\n",
       "</style>\n",
       "<table border=\"1\" class=\"dataframe\">\n",
       "  <thead>\n",
       "    <tr style=\"text-align: right;\">\n",
       "      <th></th>\n",
       "      <th>Area</th>\n",
       "      <th>MajorAxisLength</th>\n",
       "      <th>MinorAxisLength</th>\n",
       "      <th>Eccentricity</th>\n",
       "      <th>ConvexArea</th>\n",
       "      <th>EquivDiameter</th>\n",
       "      <th>Extent</th>\n",
       "      <th>Perimeter</th>\n",
       "      <th>Roundness</th>\n",
       "      <th>AspectRation</th>\n",
       "      <th>Class</th>\n",
       "    </tr>\n",
       "  </thead>\n",
       "  <tbody>\n",
       "    <tr>\n",
       "      <th>0</th>\n",
       "      <td>4537</td>\n",
       "      <td>92.229316</td>\n",
       "      <td>64.012769</td>\n",
       "      <td>0.719916</td>\n",
       "      <td>4677</td>\n",
       "      <td>76.004525</td>\n",
       "      <td>0.657536</td>\n",
       "      <td>273.085</td>\n",
       "      <td>0.764510</td>\n",
       "      <td>1.440796</td>\n",
       "      <td>1</td>\n",
       "    </tr>\n",
       "    <tr>\n",
       "      <th>1</th>\n",
       "      <td>2872</td>\n",
       "      <td>74.691881</td>\n",
       "      <td>51.400454</td>\n",
       "      <td>0.725553</td>\n",
       "      <td>3015</td>\n",
       "      <td>60.471018</td>\n",
       "      <td>0.713009</td>\n",
       "      <td>208.317</td>\n",
       "      <td>0.831658</td>\n",
       "      <td>1.453137</td>\n",
       "      <td>1</td>\n",
       "    </tr>\n",
       "    <tr>\n",
       "      <th>2</th>\n",
       "      <td>3048</td>\n",
       "      <td>76.293164</td>\n",
       "      <td>52.043491</td>\n",
       "      <td>0.731211</td>\n",
       "      <td>3132</td>\n",
       "      <td>62.296341</td>\n",
       "      <td>0.759153</td>\n",
       "      <td>210.012</td>\n",
       "      <td>0.868434</td>\n",
       "      <td>1.465950</td>\n",
       "      <td>1</td>\n",
       "    </tr>\n",
       "    <tr>\n",
       "      <th>3</th>\n",
       "      <td>3073</td>\n",
       "      <td>77.033628</td>\n",
       "      <td>51.928487</td>\n",
       "      <td>0.738639</td>\n",
       "      <td>3157</td>\n",
       "      <td>62.551300</td>\n",
       "      <td>0.783529</td>\n",
       "      <td>210.657</td>\n",
       "      <td>0.870203</td>\n",
       "      <td>1.483456</td>\n",
       "      <td>1</td>\n",
       "    </tr>\n",
       "    <tr>\n",
       "      <th>4</th>\n",
       "      <td>3693</td>\n",
       "      <td>85.124785</td>\n",
       "      <td>56.374021</td>\n",
       "      <td>0.749282</td>\n",
       "      <td>3802</td>\n",
       "      <td>68.571668</td>\n",
       "      <td>0.769375</td>\n",
       "      <td>230.332</td>\n",
       "      <td>0.874743</td>\n",
       "      <td>1.510000</td>\n",
       "      <td>1</td>\n",
       "    </tr>\n",
       "  </tbody>\n",
       "</table>\n",
       "</div>"
      ],
      "text/plain": [
       "   Area  MajorAxisLength  MinorAxisLength  Eccentricity  ConvexArea  \\\n",
       "0  4537        92.229316        64.012769      0.719916        4677   \n",
       "1  2872        74.691881        51.400454      0.725553        3015   \n",
       "2  3048        76.293164        52.043491      0.731211        3132   \n",
       "3  3073        77.033628        51.928487      0.738639        3157   \n",
       "4  3693        85.124785        56.374021      0.749282        3802   \n",
       "\n",
       "   EquivDiameter    Extent  Perimeter  Roundness  AspectRation  Class  \n",
       "0      76.004525  0.657536    273.085   0.764510      1.440796      1  \n",
       "1      60.471018  0.713009    208.317   0.831658      1.453137      1  \n",
       "2      62.296341  0.759153    210.012   0.868434      1.465950      1  \n",
       "3      62.551300  0.783529    210.657   0.870203      1.483456      1  \n",
       "4      68.571668  0.769375    230.332   0.874743      1.510000      1  "
      ]
     },
     "execution_count": 42,
     "metadata": {},
     "output_type": "execute_result"
    }
   ],
   "source": [
    "data_df.head()"
   ]
  },
  {
   "cell_type": "code",
   "execution_count": 43,
   "id": "35af4d15",
   "metadata": {},
   "outputs": [
    {
     "name": "stdout",
     "output_type": "stream",
     "text": [
      "[1 0]\n"
     ]
    }
   ],
   "source": [
    "print(data_df[\"Class\"].unique())"
   ]
  },
  {
   "cell_type": "code",
   "execution_count": 44,
   "id": "bf3d988f",
   "metadata": {},
   "outputs": [
    {
     "name": "stdout",
     "output_type": "stream",
     "text": [
      "Class\n",
      "1    9985\n",
      "0    8200\n",
      "Name: count, dtype: int64\n"
     ]
    }
   ],
   "source": [
    "print(data_df[\"Class\"].value_counts())"
   ]
  },
  {
   "cell_type": "code",
   "execution_count": 45,
   "id": "057d1ac6",
   "metadata": {},
   "outputs": [
    {
     "data": {
      "application/vnd.microsoft.datawrangler.viewer.v0+json": {
       "columns": [
        {
         "name": "index",
         "rawType": "int64",
         "type": "integer"
        },
        {
         "name": "Area",
         "rawType": "float64",
         "type": "float"
        },
        {
         "name": "MajorAxisLength",
         "rawType": "float64",
         "type": "float"
        },
        {
         "name": "MinorAxisLength",
         "rawType": "float64",
         "type": "float"
        },
        {
         "name": "Eccentricity",
         "rawType": "float64",
         "type": "float"
        },
        {
         "name": "ConvexArea",
         "rawType": "float64",
         "type": "float"
        },
        {
         "name": "EquivDiameter",
         "rawType": "float64",
         "type": "float"
        },
        {
         "name": "Extent",
         "rawType": "float64",
         "type": "float"
        },
        {
         "name": "Perimeter",
         "rawType": "float64",
         "type": "float"
        },
        {
         "name": "Roundness",
         "rawType": "float64",
         "type": "float"
        },
        {
         "name": "AspectRation",
         "rawType": "float64",
         "type": "float"
        },
        {
         "name": "Class",
         "rawType": "float64",
         "type": "float"
        }
       ],
       "ref": "9fd3fc26-f46d-471f-a63d-fde1379e8f30",
       "rows": [
        [
         "0",
         "0.4443682664054848",
         "0.5034037138677628",
         "0.7754352242920274",
         "0.7446584966314234",
         "0.42487281976744184",
         "0.6666095307554322",
         "0.7416605159270876",
         "0.5370286975109683",
         "0.8449970045216327",
         "0.3683161616678025",
         "1.0"
        ],
        [
         "1",
         "0.2812928501469148",
         "0.40768132706677834",
         "0.62265269441464",
         "0.7504887352811009",
         "0.2738917151162791",
         "0.5303704838782493",
         "0.8042303233156763",
         "0.40966075463460966",
         "0.9192149780954131",
         "0.3714709308449068",
         "1.0"
        ],
        [
         "2",
         "0.2985308521057786",
         "0.4164214097763758",
         "0.6304422854915249",
         "0.756341377623323",
         "0.2845203488372093",
         "0.5463797691470589",
         "0.856278192087232",
         "0.4129940158619971",
         "0.959862053379731",
         "0.37474651361240285",
         "1.0"
        ],
        [
         "3",
         "0.3009794319294809",
         "0.4204629911461465",
         "0.6290491491103873",
         "0.7640244242887463",
         "0.28679142441860467",
         "0.5486159238952161",
         "0.8837724137636619",
         "0.41426242500162236",
         "0.9618178930029532",
         "0.3792216138434595",
         "1.0"
        ],
        [
         "4",
         "0.36170421155729676",
         "0.4646259380522595",
         "0.6829012730137105",
         "0.7750330860480433",
         "0.34538517441860467",
         "0.6014184995695068",
         "0.8678077826868464",
         "0.4529538200746886",
         "0.9668360431710832",
         "0.3860072079094026",
         "1.0"
        ]
       ],
       "shape": {
        "columns": 11,
        "rows": 5
       }
      },
      "text/html": [
       "<div>\n",
       "<style scoped>\n",
       "    .dataframe tbody tr th:only-of-type {\n",
       "        vertical-align: middle;\n",
       "    }\n",
       "\n",
       "    .dataframe tbody tr th {\n",
       "        vertical-align: top;\n",
       "    }\n",
       "\n",
       "    .dataframe thead th {\n",
       "        text-align: right;\n",
       "    }\n",
       "</style>\n",
       "<table border=\"1\" class=\"dataframe\">\n",
       "  <thead>\n",
       "    <tr style=\"text-align: right;\">\n",
       "      <th></th>\n",
       "      <th>Area</th>\n",
       "      <th>MajorAxisLength</th>\n",
       "      <th>MinorAxisLength</th>\n",
       "      <th>Eccentricity</th>\n",
       "      <th>ConvexArea</th>\n",
       "      <th>EquivDiameter</th>\n",
       "      <th>Extent</th>\n",
       "      <th>Perimeter</th>\n",
       "      <th>Roundness</th>\n",
       "      <th>AspectRation</th>\n",
       "      <th>Class</th>\n",
       "    </tr>\n",
       "  </thead>\n",
       "  <tbody>\n",
       "    <tr>\n",
       "      <th>0</th>\n",
       "      <td>0.444368</td>\n",
       "      <td>0.503404</td>\n",
       "      <td>0.775435</td>\n",
       "      <td>0.744658</td>\n",
       "      <td>0.424873</td>\n",
       "      <td>0.666610</td>\n",
       "      <td>0.741661</td>\n",
       "      <td>0.537029</td>\n",
       "      <td>0.844997</td>\n",
       "      <td>0.368316</td>\n",
       "      <td>1.0</td>\n",
       "    </tr>\n",
       "    <tr>\n",
       "      <th>1</th>\n",
       "      <td>0.281293</td>\n",
       "      <td>0.407681</td>\n",
       "      <td>0.622653</td>\n",
       "      <td>0.750489</td>\n",
       "      <td>0.273892</td>\n",
       "      <td>0.530370</td>\n",
       "      <td>0.804230</td>\n",
       "      <td>0.409661</td>\n",
       "      <td>0.919215</td>\n",
       "      <td>0.371471</td>\n",
       "      <td>1.0</td>\n",
       "    </tr>\n",
       "    <tr>\n",
       "      <th>2</th>\n",
       "      <td>0.298531</td>\n",
       "      <td>0.416421</td>\n",
       "      <td>0.630442</td>\n",
       "      <td>0.756341</td>\n",
       "      <td>0.284520</td>\n",
       "      <td>0.546380</td>\n",
       "      <td>0.856278</td>\n",
       "      <td>0.412994</td>\n",
       "      <td>0.959862</td>\n",
       "      <td>0.374747</td>\n",
       "      <td>1.0</td>\n",
       "    </tr>\n",
       "    <tr>\n",
       "      <th>3</th>\n",
       "      <td>0.300979</td>\n",
       "      <td>0.420463</td>\n",
       "      <td>0.629049</td>\n",
       "      <td>0.764024</td>\n",
       "      <td>0.286791</td>\n",
       "      <td>0.548616</td>\n",
       "      <td>0.883772</td>\n",
       "      <td>0.414262</td>\n",
       "      <td>0.961818</td>\n",
       "      <td>0.379222</td>\n",
       "      <td>1.0</td>\n",
       "    </tr>\n",
       "    <tr>\n",
       "      <th>4</th>\n",
       "      <td>0.361704</td>\n",
       "      <td>0.464626</td>\n",
       "      <td>0.682901</td>\n",
       "      <td>0.775033</td>\n",
       "      <td>0.345385</td>\n",
       "      <td>0.601418</td>\n",
       "      <td>0.867808</td>\n",
       "      <td>0.452954</td>\n",
       "      <td>0.966836</td>\n",
       "      <td>0.386007</td>\n",
       "      <td>1.0</td>\n",
       "    </tr>\n",
       "  </tbody>\n",
       "</table>\n",
       "</div>"
      ],
      "text/plain": [
       "       Area  MajorAxisLength  MinorAxisLength  Eccentricity  ConvexArea  \\\n",
       "0  0.444368         0.503404         0.775435      0.744658    0.424873   \n",
       "1  0.281293         0.407681         0.622653      0.750489    0.273892   \n",
       "2  0.298531         0.416421         0.630442      0.756341    0.284520   \n",
       "3  0.300979         0.420463         0.629049      0.764024    0.286791   \n",
       "4  0.361704         0.464626         0.682901      0.775033    0.345385   \n",
       "\n",
       "   EquivDiameter    Extent  Perimeter  Roundness  AspectRation  Class  \n",
       "0       0.666610  0.741661   0.537029   0.844997      0.368316    1.0  \n",
       "1       0.530370  0.804230   0.409661   0.919215      0.371471    1.0  \n",
       "2       0.546380  0.856278   0.412994   0.959862      0.374747    1.0  \n",
       "3       0.548616  0.883772   0.414262   0.961818      0.379222    1.0  \n",
       "4       0.601418  0.867808   0.452954   0.966836      0.386007    1.0  "
      ]
     },
     "execution_count": 45,
     "metadata": {},
     "output_type": "execute_result"
    }
   ],
   "source": [
    "original_df = data_df.copy()\n",
    "for column in data_df.columns:\n",
    "    data_df[column] = data_df[column]/data_df[column].abs().max()\n",
    "\n",
    "data_df.head()"
   ]
  },
  {
   "cell_type": "code",
   "execution_count": 46,
   "id": "ac857786",
   "metadata": {},
   "outputs": [],
   "source": [
    "X = data_df.iloc[:, :-1].values\n",
    "y = data_df.iloc[:, -1].values"
   ]
  },
  {
   "cell_type": "code",
   "execution_count": 47,
   "id": "d50ab8d4",
   "metadata": {},
   "outputs": [],
   "source": [
    "X_train, X_test, y_train, y_test = train_test_split(X, y, test_size=0.3)"
   ]
  },
  {
   "cell_type": "code",
   "execution_count": 48,
   "id": "a2d1a6ae",
   "metadata": {},
   "outputs": [],
   "source": [
    "X_test, X_val, y_test, y_val = train_test_split(X_test, y_test, test_size=0.5)"
   ]
  },
  {
   "cell_type": "code",
   "execution_count": 49,
   "id": "7f047082",
   "metadata": {},
   "outputs": [
    {
     "name": "stdout",
     "output_type": "stream",
     "text": [
      "(12729, 10)\n",
      "(2728, 10)\n",
      "(2728, 10)\n"
     ]
    }
   ],
   "source": [
    "print(X_train.shape)\n",
    "print(X_test.shape)\n",
    "print(X_val.shape)"
   ]
  },
  {
   "cell_type": "code",
   "execution_count": 50,
   "id": "e9aefa05",
   "metadata": {},
   "outputs": [],
   "source": [
    "class dataset(Dataset):\n",
    "    def __init__(self, X, y):\n",
    "        self.X = torch.tensor(X, dtype=torch.float32).to(device=device)\n",
    "        self.y = torch.tensor(y, dtype=torch.float32).to(device=device)\n",
    "    def __len__(self):\n",
    "        return len(self.X)\n",
    "    def __getitem__(self, index):\n",
    "        return self.X[index], self.y[index]"
   ]
  },
  {
   "cell_type": "code",
   "execution_count": 51,
   "id": "16962c65",
   "metadata": {},
   "outputs": [],
   "source": [
    "training_data = dataset(X_train, y_train)\n",
    "validation_data = dataset(X_val, y_val)\n",
    "testing_data = dataset(X_test, y_test)"
   ]
  },
  {
   "cell_type": "code",
   "execution_count": 52,
   "id": "816bb60a",
   "metadata": {},
   "outputs": [],
   "source": [
    "train_dataloader = DataLoader(training_data, batch_size=8, shuffle=True)\n",
    "validation_dataloader = DataLoader(validation_data, batch_size=8, shuffle=True)\n",
    "testing_dataloader = DataLoader(testing_data, batch_size=8, shuffle=True)"
   ]
  },
  {
   "cell_type": "code",
   "execution_count": 53,
   "id": "9a9ed467",
   "metadata": {},
   "outputs": [],
   "source": [
    "HIDDEN_NEURONS = 10\n",
    "class MyModel(nn.Module):\n",
    "    def __init__(self):\n",
    "        super(MyModel, self).__init__()\n",
    "\n",
    "        self.input_layer = nn.Linear(X.shape[1], HIDDEN_NEURONS)\n",
    "        self.linear = nn.Linear(HIDDEN_NEURONS, 1)\n",
    "        self.sigmoid = nn.Sigmoid()\n",
    "\n",
    "    def forward(self, X):\n",
    "        X = self.input_layer(X)\n",
    "        X = self.linear(X)\n",
    "        X = self.sigmoid(X)\n",
    "        return X\n",
    "    \n",
    "model = MyModel().to(device)"
   ]
  },
  {
   "cell_type": "code",
   "execution_count": 54,
   "id": "788bb931",
   "metadata": {},
   "outputs": [
    {
     "name": "stdout",
     "output_type": "stream",
     "text": [
      "----------------------------------------------------------------\n",
      "        Layer (type)               Output Shape         Param #\n",
      "================================================================\n",
      "            Linear-1                   [-1, 10]             110\n",
      "            Linear-2                    [-1, 1]              11\n",
      "           Sigmoid-3                    [-1, 1]               0\n",
      "================================================================\n",
      "Total params: 121\n",
      "Trainable params: 121\n",
      "Non-trainable params: 0\n",
      "----------------------------------------------------------------\n",
      "Input size (MB): 0.00\n",
      "Forward/backward pass size (MB): 0.00\n",
      "Params size (MB): 0.00\n",
      "Estimated Total Size (MB): 0.00\n",
      "----------------------------------------------------------------\n"
     ]
    }
   ],
   "source": [
    "summary(model, (X.shape[1], ))"
   ]
  },
  {
   "cell_type": "code",
   "execution_count": 55,
   "id": "b3cf5882",
   "metadata": {},
   "outputs": [],
   "source": [
    "criterion = nn.BCELoss()\n",
    "optimizer = Adam(model.parameters(), lr = 1e-3)"
   ]
  },
  {
   "cell_type": "code",
   "execution_count": 56,
   "id": "fee80918",
   "metadata": {},
   "outputs": [
    {
     "name": "stdout",
     "output_type": "stream",
     "text": [
      "Epoch no.: 1 Train loss: 0.5568 Train Accuracy: 95.8756\n",
      "            Validation loss: 0.0383 Validation Accuracy: 98.6804\n",
      "=========================\n",
      "Epoch no.: 2 Train loss: 0.1312 Train Accuracy: 98.3659\n",
      "            Validation loss: 0.0177 Validation Accuracy: 98.5704\n",
      "=========================\n",
      "Epoch no.: 3 Train loss: 0.0886 Train Accuracy: 98.4838\n",
      "            Validation loss: 0.0138 Validation Accuracy: 98.6437\n",
      "=========================\n",
      "Epoch no.: 4 Train loss: 0.0788 Train Accuracy: 98.3895\n",
      "            Validation loss: 0.0129 Validation Accuracy: 98.827\n",
      "=========================\n",
      "Epoch no.: 5 Train loss: 0.0752 Train Accuracy: 98.5231\n",
      "            Validation loss: 0.0118 Validation Accuracy: 98.7537\n",
      "=========================\n",
      "Epoch no.: 6 Train loss: 0.0741 Train Accuracy: 98.4759\n",
      "            Validation loss: 0.0122 Validation Accuracy: 98.9003\n",
      "=========================\n",
      "Epoch no.: 7 Train loss: 0.0735 Train Accuracy: 98.4209\n",
      "            Validation loss: 0.0115 Validation Accuracy: 98.937\n",
      "=========================\n",
      "Epoch no.: 8 Train loss: 0.0717 Train Accuracy: 98.4916\n",
      "            Validation loss: 0.0112 Validation Accuracy: 98.9003\n",
      "=========================\n",
      "Epoch no.: 9 Train loss: 0.072 Train Accuracy: 98.5623\n",
      "            Validation loss: 0.0117 Validation Accuracy: 98.8636\n",
      "=========================\n",
      "Epoch no.: 10 Train loss: 0.0727 Train Accuracy: 98.5388\n",
      "            Validation loss: 0.0111 Validation Accuracy: 98.8636\n",
      "=========================\n"
     ]
    }
   ],
   "source": [
    "total_loss_train_plot = []\n",
    "total_loss_val_plot = []\n",
    "total_acc_train_plot = []\n",
    "total_acc_val_plot = []\n",
    "\n",
    "epochs = 10\n",
    "for epoch in range(epochs):\n",
    "    total_acc_train = 0\n",
    "    total_loss_train = 0\n",
    "    total_acc_val = 0\n",
    "    total_loss_val = 0\n",
    "\n",
    "    for data in train_dataloader:\n",
    "        inputs, labels = data\n",
    "\n",
    "        prediction = model(inputs).squeeze(1)\n",
    "        batch_loss = criterion(prediction, labels)\n",
    "        \n",
    "        total_loss_train += batch_loss.item()\n",
    "        acc = ((prediction).round() == labels).sum().item()\n",
    "        total_acc_train += acc\n",
    "\n",
    "        batch_loss.backward()\n",
    "        optimizer.step()\n",
    "        optimizer.zero_grad()\n",
    "    with torch.no_grad():\n",
    "        for data in validation_dataloader:\n",
    "            inputs, labels = data\n",
    "\n",
    "            prediction = model(inputs).squeeze(1)\n",
    "            batch_loss = criterion(prediction, labels)\n",
    "\n",
    "            total_loss_val += batch_loss.item()\n",
    "            acc = ((prediction).round() == labels).sum().item()\n",
    "            total_acc_val += acc\n",
    "    total_loss_train_plot.append(round(total_loss_train/1000, 4))\n",
    "    total_loss_val_plot.append(round(total_loss_val/1000, 4))\n",
    "\n",
    "    total_acc_train_plot.append(round(total_acc_train/training_data.__len__() * 100, 4))\n",
    "    total_acc_val_plot.append(round(total_acc_val/validation_data.__len__() * 100, 4))\n",
    "\n",
    "    print(f'''Epoch no.: {epoch+1} Train loss: {round(total_loss_train/1000, 4)} Train Accuracy: {round(total_acc_train/training_data.__len__() * 100, 4)}\n",
    "            Validation loss: {round(total_loss_val/1000, 4)} Validation Accuracy: {round(total_acc_val/validation_data.__len__() * 100, 4)}''')\n",
    "    print(\"=\"*25)"
   ]
  },
  {
   "cell_type": "code",
   "execution_count": 57,
   "id": "77337802",
   "metadata": {},
   "outputs": [
    {
     "name": "stdout",
     "output_type": "stream",
     "text": [
      "Accuracy:  98.9003\n"
     ]
    }
   ],
   "source": [
    "with torch.no_grad():\n",
    "    total_loss_test = 0\n",
    "    total_acc_test = 0\n",
    "    for data in testing_dataloader:\n",
    "        inputs, labels = data\n",
    "        prediction = model(inputs).squeeze(1)\n",
    "        batch_loss_test = criterion(prediction, labels).item()\n",
    "        total_loss_test += batch_loss_test\n",
    "        acc = ((prediction).round() == labels).sum().item()\n",
    "        total_acc_test += acc\n",
    "print(\"Accuracy: \", round(total_acc_test/testing_data.__len__() * 100, 4))"
   ]
  },
  {
   "cell_type": "code",
   "execution_count": 58,
   "id": "c58a30d2",
   "metadata": {},
   "outputs": [
    {
     "data": {
      "text/plain": [
       "<matplotlib.legend.Legend at 0x267bdc44910>"
      ]
     },
     "execution_count": 58,
     "metadata": {},
     "output_type": "execute_result"
    },
    {
     "data": {
      "image/png": "[encoded data removed]",
      "text/plain": [
       "<Figure size 1500x500 with 2 Axes>"
      ]
     },
     "metadata": {},
     "output_type": "display_data"
    }
   ],
   "source": [
    "fig, axs = plt.subplots(nrows = 1, ncols = 2, figsize = (15, 5))\n",
    "\n",
    "axs[0].plot(total_loss_train_plot, label='Training Loss')\n",
    "axs[0].plot(total_loss_val_plot, label='Validation Loss')\n",
    "axs[0].set_title(\"Training and Validation loss over epochs\")\n",
    "axs[0].set_xlabel('Epochs')\n",
    "axs[0].set_ylabel('Loss')\n",
    "axs[0].set_ylim([0, 2])\n",
    "axs[0].legend()\n",
    "\n",
    "axs[1].plot(total_acc_train_plot, label='Training Acc')\n",
    "axs[1].plot(total_acc_val_plot, label='Validation Acc')\n",
    "axs[1].set_title(\"Training and Validation Acc over epochs\")\n",
    "axs[1].set_xlabel('Epochs')\n",
    "axs[1].set_ylabel('Acc')\n",
    "axs[1].set_ylim([90, 100])\n",
    "axs[1].legend()"
   ]
  },
  {
   "cell_type": "code",
   "execution_count": null,
   "id": "3ba07e8c",
   "metadata": {},
   "outputs": [],
   "source": []
  }
 ],
 "metadata": {
  "jupytext": {
   "formats": "ipynb,py"
  },
  "kernelspec": {
   "display_name": ".venv",
   "language": "python",
   "name": "python3"
  },
  "language_info": {
   "codemirror_mode": {
    "name": "ipython",
    "version": 3
   },
   "file_extension": ".py",
   "mimetype": "text/x-python",
   "name": "python",
   "nbconvert_exporter": "python",
   "pygments_lexer": "ipython3",
   "version": "3.11.9"
  }
 },
 "nbformat": 4,
 "nbformat_minor": 5
}
