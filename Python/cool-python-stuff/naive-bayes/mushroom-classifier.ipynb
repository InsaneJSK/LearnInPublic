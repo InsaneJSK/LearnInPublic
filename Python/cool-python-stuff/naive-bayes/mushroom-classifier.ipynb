{
 "cells": [
  {
   "cell_type": "code",
   "execution_count": null,
   "id": "0c411d58",
   "metadata": {},
   "outputs": [],
   "source": [
    "import numpy as np\n",
    "import pandas as pd"
   ]
  },
  {
   "cell_type": "code",
   "execution_count": null,
   "id": "7a743f16",
   "metadata": {},
   "outputs": [],
   "source": [
    "df = pd.read_csv(\"mushrooms.csv\")\n",
    "df.head(10)"
   ]
  },
  {
   "cell_type": "code",
   "execution_count": null,
   "id": "9e69daef",
   "metadata": {},
   "outputs": [],
   "source": [
    "from sklearn.preprocessing import LabelEncoder\n",
    "from sklearn.model_selection import train_test_split"
   ]
  },
  {
   "cell_type": "code",
   "execution_count": null,
   "id": "6e13ad6e",
   "metadata": {},
   "outputs": [],
   "source": [
    "le = LabelEncoder()\n",
    "ds = df.apply(le.fit_transform)"
   ]
  },
  {
   "cell_type": "code",
   "execution_count": null,
   "id": "f315ee83",
   "metadata": {},
   "outputs": [],
   "source": [
    "data = ds.values"
   ]
  },
  {
   "cell_type": "code",
   "execution_count": null,
   "id": "fd5cf742",
   "metadata": {},
   "outputs": [],
   "source": [
    "X, y = data[:, 1:], data[:, 0]"
   ]
  },
  {
   "cell_type": "code",
   "execution_count": null,
   "id": "4e9f760a",
   "metadata": {},
   "outputs": [],
   "source": [
    "X_train, X_test, y_train, y_test = train_test_split(X, y, test_size=0.2)"
   ]
  },
  {
   "cell_type": "code",
   "execution_count": null,
   "id": "e0895fc6",
   "metadata": {},
   "outputs": [],
   "source": [
    "a = np.array([0, 5, 5, 1, 1, 1, 0, 1])"
   ]
  },
  {
   "cell_type": "code",
   "execution_count": null,
   "id": "f67ff224",
   "metadata": {},
   "outputs": [],
   "source": [
    "def prior_prob(y_train, label):\n",
    "    total_examples = y_train.shape[0]\n",
    "    class_examples = np.sum(y_train == label)\n",
    "\n",
    "    return (class_examples)/float(total_examples)"
   ]
  },
  {
   "cell_type": "code",
   "execution_count": null,
   "id": "e6c34f28",
   "metadata": {},
   "outputs": [],
   "source": [
    "y = np.array([0, 5, 5, 1, 1, 1, 1, 0, 0, 0])\n",
    "prior_prob(y, 0)"
   ]
  },
  {
   "cell_type": "code",
   "execution_count": null,
   "id": "b8104fc3",
   "metadata": {},
   "outputs": [],
   "source": [
    "def cond_prob(x_train, y_train, feature_col, feature_val, label):\n",
    "    x_filtered = x_train[y_train==label]\n",
    "    numerator = np.sum(x_filtered[:, feature_col]==feature_val)\n",
    "    denominator = np.sum(y_train == label)\n",
    "    return numerator/float(denominator)"
   ]
  },
  {
   "cell_type": "code",
   "execution_count": null,
   "id": "53f8b54b",
   "metadata": {},
   "outputs": [],
   "source": [
    "def predict(x_train, y_train, Xtest):\n",
    "    classes = np.unique(y_train)\n",
    "    n_features = x_train.shape[1]\n",
    "    post_probs = []\n",
    "    for label in classes:\n",
    "        likelihood = 1.0\n",
    "        for f in range(n_features):\n",
    "            cond = cond_prob(x_train, y_train, f, Xtest[f], label)\n",
    "            likelihood*=cond\n",
    "        prior = prior_prob(y_train, label)\n",
    "        post = likelihood*prior\n",
    "        post_probs.append(post)\n",
    "    pred = np.argmax(post_probs)\n",
    "    return pred"
   ]
  },
  {
   "cell_type": "code",
   "execution_count": null,
   "id": "34617935",
   "metadata": {},
   "outputs": [],
   "source": [
    "output = predict(X_train, y_train, X_test[1])\n",
    "print(output)\n",
    "print(y_test[1])"
   ]
  },
  {
   "cell_type": "code",
   "execution_count": null,
   "id": "f1ec2d80",
   "metadata": {},
   "outputs": [],
   "source": [
    "def score(X_train, y_train, X_test, y_test):\n",
    "    pred = []\n",
    "    for i in range(X_test.shape[0]):\n",
    "        pred_label = predict(X_train, y_train, X_test[i])\n",
    "        pred.append(pred_label)\n",
    "    pred = np.array(pred)\n",
    "    accuracy = np.sum(pred==y_test)/y_test.shape[0]\n",
    "    return accuracy"
   ]
  },
  {
   "cell_type": "code",
   "execution_count": null,
   "id": "8fabcd03",
   "metadata": {},
   "outputs": [],
   "source": [
    "print(score(X_train, y_train, X_test, y_test))"
   ]
  }
 ],
 "metadata": {
  "kernelspec": {
   "display_name": "Python 3",
   "language": "python",
   "name": "python3"
  },
  "language_info": {
   "codemirror_mode": {
    "name": "ipython",
    "version": 3
   },
   "file_extension": ".py",
   "mimetype": "text/x-python",
   "name": "python",
   "nbconvert_exporter": "python",
   "pygments_lexer": "ipython3",
   "version": "3.9.13"
  }
 },
 "nbformat": 4,
 "nbformat_minor": 5
}
